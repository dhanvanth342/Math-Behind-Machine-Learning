{
 "cells": [
  {
   "cell_type": "code",
   "execution_count": null,
   "id": "f45cdb92",
   "metadata": {},
   "outputs": [],
   "source": [
    "# Importing libraries and setting up output directory\n",
    "import numpy as np\n",
    "import pandas as pd\n",
    "import os\n",
    "\n",
    "output_dir = r\"D:\\Projects\\assignments\\ml-584\\Project2-main\\gradientboosting\\test_data\"\n",
    "os.makedirs(output_dir, exist_ok=True)\n",
    "\n",
    "\n"
   ]
  },
  {
   "cell_type": "code",
   "execution_count": 2,
   "id": "519d9f31",
   "metadata": {},
   "outputs": [],
   "source": [
    "# 1. Generating linearly separable binary dataset (25×3)\n",
    "np.random.seed(0)\n",
    "n1, n2 = 12, 13\n",
    "X1 = np.random.normal(loc=[0,0,0], scale=1, size=(n1,3))\n",
    "X2 = np.random.normal(loc=[5,5,5], scale=1, size=(n2,3))\n",
    "X = np.vstack([X1, X2])\n",
    "y = np.array([0]*n1 + [1]*n2)\n",
    "df = pd.DataFrame(np.column_stack([X, y]), columns=[f\"f{i}\" for i in range(1,4)]+[\"label\"])\n",
    "df.to_csv(os.path.join(output_dir, \"binary_linear.csv\"), index=False)\n",
    "\n"
   ]
  },
  {
   "cell_type": "code",
   "execution_count": 3,
   "id": "db8af501",
   "metadata": {},
   "outputs": [],
   "source": [
    "# 2. Generating XOR-style non-linear binary dataset (30×4)\n",
    "np.random.seed(1)\n",
    "n = 30\n",
    "X = np.random.randn(n,4)\n",
    "y = ((X[:,0]>0) ^ (X[:,1]>0)).astype(int)\n",
    "df = pd.DataFrame(np.column_stack([X, y]), columns=list(\"ABCD\")+[\"label\"])\n",
    "df.to_csv(os.path.join(output_dir, \"binary_xor.csv\"), index=False)\n",
    "\n"
   ]
  },
  {
   "cell_type": "code",
   "execution_count": 4,
   "id": "ab2dd674",
   "metadata": {},
   "outputs": [],
   "source": [
    "# 3. Generating balanced multiclass clusters (40×5, 3 classes)\n",
    "np.random.seed(2)\n",
    "sizes = [13,14,13]\n",
    "data, labels = [], []\n",
    "for k, mu in enumerate([[0]*5, [5]*5, [10]*5]):\n",
    "    Xk = np.random.normal(loc=mu, scale=1, size=(sizes[k],5))\n",
    "    data.append(Xk)\n",
    "    labels += [k]*sizes[k]\n",
    "X = np.vstack(data)\n",
    "y = np.array(labels)\n",
    "cols = [f\"f{i}\" for i in range(1,6)]\n",
    "df = pd.DataFrame(np.column_stack([X, y]), columns=cols+[\"label\"])\n",
    "df.to_csv(os.path.join(output_dir, \"multiclass_clusters.csv\"), index=False)\n",
    "\n"
   ]
  },
  {
   "cell_type": "code",
   "execution_count": 5,
   "id": "e4f7d01c",
   "metadata": {},
   "outputs": [],
   "source": [
    "# 4. Generating imbalanced binary dataset (50×6)\n",
    "np.random.seed(3)\n",
    "n = 50\n",
    "X = np.random.randn(n,6)\n",
    "y = np.zeros(n, dtype=int)\n",
    "y[:10] = 1\n",
    "cols = [f\"f{i}\" for i in range(1,7)]\n",
    "df = pd.DataFrame(np.column_stack([X, y]), columns=cols+[\"label\"])\n",
    "df.to_csv(os.path.join(output_dir, \"binary_imbalanced.csv\"), index=False)\n",
    "\n"
   ]
  },
  {
   "cell_type": "code",
   "execution_count": 6,
   "id": "e713599d",
   "metadata": {},
   "outputs": [],
   "source": [
    "# 5. Generating uneven multiclass high-dimensional dataset (50×10, 5 classes)\n",
    "np.random.seed(4)\n",
    "counts = [5,10,15,10,10]\n",
    "data, labels = [], []\n",
    "for k in range(5):\n",
    "    Xk = np.random.randn(counts[k],10) + k\n",
    "    data.append(Xk)\n",
    "    labels += [k]*counts[k]\n",
    "X = np.vstack(data)\n",
    "y = np.array(labels)\n",
    "cols = [f\"f{i}\" for i in range(1,11)]\n",
    "df = pd.DataFrame(np.column_stack([X, y]), columns=cols+[\"label\"])\n",
    "df.to_csv(os.path.join(output_dir, \"multiclass_highdim.csv\"), index=False)"
   ]
  }
 ],
 "metadata": {
  "kernelspec": {
   "display_name": "venv",
   "language": "python",
   "name": "python3"
  },
  "language_info": {
   "codemirror_mode": {
    "name": "ipython",
    "version": 3
   },
   "file_extension": ".py",
   "mimetype": "text/x-python",
   "name": "python",
   "nbconvert_exporter": "python",
   "pygments_lexer": "ipython3",
   "version": "3.11.9"
  }
 },
 "nbformat": 4,
 "nbformat_minor": 5
}
